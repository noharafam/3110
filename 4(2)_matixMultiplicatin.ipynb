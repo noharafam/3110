{
  "nbformat": 4,
  "nbformat_minor": 0,
  "metadata": {
    "colab": {
      "provenance": [],
      "gpuType": "T4"
    },
    "kernelspec": {
      "name": "python3",
      "display_name": "Python 3"
    },
    "language_info": {
      "name": "python"
    },
    "accelerator": "GPU"
  },
  "cells": [
    {
      "cell_type": "code",
      "execution_count": 42,
      "metadata": {
        "colab": {
          "base_uri": "https://localhost:8080/"
        },
        "id": "f0_5fNcW-GM0",
        "outputId": "53bc8134-b595-44fb-f5e1-209802e0de67"
      },
      "outputs": [
        {
          "output_type": "stream",
          "name": "stdout",
          "text": [
            "Collecting git+https://github.com/afnan47/cuda.git\n",
            "  Cloning https://github.com/afnan47/cuda.git to /tmp/pip-req-build-lm_r7fce\n",
            "  Running command git clone --filter=blob:none --quiet https://github.com/afnan47/cuda.git /tmp/pip-req-build-lm_r7fce\n",
            "  Resolved https://github.com/afnan47/cuda.git to commit aac710a35f52bb78ab34d2e52517237941399eff\n",
            "  Preparing metadata (setup.py) ... \u001b[?25l\u001b[?25hdone\n",
            "The nvcc_plugin extension is already loaded. To reload it, use:\n",
            "  %reload_ext nvcc_plugin\n"
          ]
        }
      ],
      "source": [
        "# Set up CUDA\n",
        "#First Change runtime to GPU and run this cell\n",
        "!pip install git+https://github.com/afnan47/cuda.git\n",
        "%load_ext nvcc_plugin"
      ]
    },
    {
      "cell_type": "code",
      "source": [
        "   %%writefile matrix_mult.cu\n",
        " #include <iostream>\n",
        " #include <cuda.h>\n",
        " using namespace std;\n",
        " #define BLOCK_SIZE 1\n",
        " __global__ void gpuMM(float *A, float *B, float *C, int N) {\n",
        " int row = blockIdx.y * blockDim.y + threadIdx.y;\n",
        " int col = blockIdx.x * blockDim.x + threadIdx.x;\n",
        " float sum = 0.f;\n",
        " for (int n = 0; n < N; ++n)\n",
        " sum += A[row * N + n] * B[n * N + col];\n",
        " C[row * N + col] = sum;\n",
        " }\n",
        " int main(int argc, char *argv[]) {\n",
        " int N;\n",
        " // Get matrix size from user\n",
        " cout << \"Enter size of matrix (N): \";\n",
        " cin >> N;\n",
        " if (N % BLOCK_SIZE != 0) {\n",
        " cerr << \"Matrix size must be a multiple of BLOCK_SIZE.\" << endl;\n",
        " return 1;\n",
        " }\n",
        " cout << \"\\nExecuting Matrix Multiplication\" << endl;\n",
        " cout << \"Matrix size: \" << N << \"x\" << N << endl;\n",
        "// Allocate memory for matrices on the host\n",
        " float *hA, *hB, *hC;\n",
        " hA = new float[N * N];\n",
        " hB = new float[N * N];\n",
        " hC = new float[N * N];\n",
        " // Read matrices from user\n",
        " cout << \"Enter elements of matrix A (\" << N << \"x\" << N << \"):\" << endl;\n",
        " for (int i = 0; i < N * N; ++i)\n",
        " cin >> hA[i];\n",
        " cout << \"Enter elements of matrix B (\" << N << \"x\" << N << \"):\" << endl;\n",
        " for (int i = 0; i < N * N; ++i)\n",
        " cin >> hB[i];\n",
        " // Allocate memory for matrices on the device\n",
        " int size = N * N * sizeof(float);\n",
        " float *dA, *dB, *dC;\n",
        " cudaMalloc(&dA, size);\n",
        " cudaMalloc(&dB, size);\n",
        " cudaMalloc(&dC, size);\n",
        " // Copy matrices from the host to the device\n",
        " cudaMemcpy(dA, hA, size, cudaMemcpyHostToDevice);\n",
        " cudaMemcpy(dB, hB, size, cudaMemcpyHostToDevice);\n",
        " dim3 threadBlock(BLOCK_SIZE, BLOCK_SIZE);\n",
        " dim3 grid(N / BLOCK_SIZE, N / BLOCK_SIZE);\n",
        " // Execute the matrix multiplication kernel\n",
        " gpuMM<<<grid, threadBlock>>>(dA, dB, dC, N);\n",
        " // Copy the result matrix from the device to the host\n",
        " cudaMemcpy(hC, dC, size, cudaMemcpyDeviceToHost);\n",
        " // Display the result matrix\n",
        " cout << \"\\nResultant matrix:\\n\";\n",
        " for (int row = 0; row < N; row++) {\n",
        " for (int col = 0; col < N; col++) {\n",
        " cout << hC[row * N + col] << \" \";\n",
        " }\n",
        " cout << endl;\n",
        " }\n",
        " // Free device memory\n",
        "cudaFree(dA);\n",
        " cudaFree(dB);\n",
        " cudaFree(dC);\n",
        " // Free host memory\n",
        " delete[] hA;\n",
        " delete[] hB;\n",
        " delete[] hC;\n",
        " cout << \"Finished.\" << endl;\n",
        " return 0;\n",
        " }"
      ],
      "metadata": {
        "colab": {
          "base_uri": "https://localhost:8080/"
        },
        "id": "OZhe_6Y1-gyv",
        "outputId": "c591dbe1-ad69-47bb-ec36-c8ad49c32178"
      },
      "execution_count": 46,
      "outputs": [
        {
          "output_type": "stream",
          "name": "stdout",
          "text": [
            "Writing matrix_mult.cu\n"
          ]
        }
      ]
    },
    {
      "cell_type": "code",
      "source": [
        "!nvcc matrix_mult.cu -o matrix_mult"
      ],
      "metadata": {
        "id": "mU4Zr9Pm_F_7"
      },
      "execution_count": 47,
      "outputs": []
    },
    {
      "cell_type": "code",
      "source": [
        "!./matrix_mult"
      ],
      "metadata": {
        "colab": {
          "base_uri": "https://localhost:8080/"
        },
        "id": "tmdLmM3q_hHd",
        "outputId": "d5f6b984-0b4e-45ee-eddf-754173d9f4cc"
      },
      "execution_count": 48,
      "outputs": [
        {
          "output_type": "stream",
          "name": "stdout",
          "text": [
            "Enter size of matrix (N): 3\n",
            "\n",
            "Executing Matrix Multiplication\n",
            "Matrix size: 3x3\n",
            "Enter elements of matrix A (3x3):\n",
            "1 2 3\n",
            "4 5 6\n",
            "7 8 9\n",
            "Enter elements of matrix B (3x3):\n",
            "9 8 7\n",
            "6 5 4\n",
            "3 2 1\n",
            "\n",
            "Resultant matrix:\n",
            "30 24 18 \n",
            "84 69 54 \n",
            "138 114 90 \n",
            "Finished.\n"
          ]
        }
      ]
    }
  ]
}