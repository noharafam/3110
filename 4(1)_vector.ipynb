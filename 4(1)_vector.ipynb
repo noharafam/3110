{
  "nbformat": 4,
  "nbformat_minor": 0,
  "metadata": {
    "colab": {
      "provenance": [],
      "gpuType": "T4"
    },
    "kernelspec": {
      "name": "python3",
      "display_name": "Python 3"
    },
    "language_info": {
      "name": "python"
    },
    "accelerator": "GPU"
  },
  "cells": [
    {
      "cell_type": "code",
      "execution_count": 42,
      "metadata": {
        "colab": {
          "base_uri": "https://localhost:8080/"
        },
        "id": "f0_5fNcW-GM0",
        "outputId": "53bc8134-b595-44fb-f5e1-209802e0de67"
      },
      "outputs": [
        {
          "output_type": "stream",
          "name": "stdout",
          "text": [
            "Collecting git+https://github.com/afnan47/cuda.git\n",
            "  Cloning https://github.com/afnan47/cuda.git to /tmp/pip-req-build-lm_r7fce\n",
            "  Running command git clone --filter=blob:none --quiet https://github.com/afnan47/cuda.git /tmp/pip-req-build-lm_r7fce\n",
            "  Resolved https://github.com/afnan47/cuda.git to commit aac710a35f52bb78ab34d2e52517237941399eff\n",
            "  Preparing metadata (setup.py) ... \u001b[?25l\u001b[?25hdone\n",
            "The nvcc_plugin extension is already loaded. To reload it, use:\n",
            "  %reload_ext nvcc_plugin\n"
          ]
        }
      ],
      "source": [
        "# Set up CUDA\n",
        "#First Change runtime to GPU and run this cell\n",
        "!pip install git+https://github.com/afnan47/cuda.git\n",
        "%load_ext nvcc_plugin"
      ]
    },
    {
      "cell_type": "code",
      "source": [
        "   %%writefile add.cu\n",
        " #include <iostream>\n",
        " #include <cstdlib> // Include <cstdlib> for rand()\n",
        " using namespace std;\n",
        " __global__\n",
        " void add(int* A, int* B, int* C, int size) {\n",
        " int tid = blockIdx.x * blockDim.x + threadIdx.x;\n",
        " if (tid < size) {\n",
        " C[tid] = A[tid] + B[tid];\n",
        " }\n",
        " }\n",
        " void print(int* vector, int size) {\n",
        " for (int i = 0; i < size; i++) {\n",
        " cout << vector[i] << \" \";\n",
        " }\n",
        " cout << endl;\n",
        " }\n",
        " int main() {\n",
        " int N;\n",
        " cout << \"Enter the size of the vectors: \";\n",
        " cin >> N;\n",
        " int* A, * B, * C;\n",
        " int vectorSize = N;\n",
        " size_t vectorBytes = vectorSize * sizeof(int);\n",
        " // Allocate host memory\n",
        "A = new int[vectorSize];\n",
        " B = new int[vectorSize];\n",
        " C = new int[vectorSize];\n",
        " // Initialize host arrays\n",
        " cout << \"Enter elements of vector A:\" << endl;\n",
        " for (int i = 0; i < N; i++) {\n",
        " cin >> A[i];\n",
        " }\n",
        " cout << \"Enter elements of vector B:\" << endl;\n",
        " for (int i = 0; i < N; i++) {\n",
        " cin >> B[i];\n",
        " }\n",
        " cout << \"Vector A: \";\n",
        " print(A, N);\n",
        " cout << \"Vector B: \";\n",
        " print(B, N);\n",
        " int* X, * Y, * Z;\n",
        " // Allocate device memory\n",
        " cudaMalloc(&X, vectorBytes);\n",
        " cudaMalloc(&Y, vectorBytes);\n",
        " cudaMalloc(&Z, vectorBytes);\n",
        " // Check for CUDA memory allocation errors\n",
        " if (X == nullptr || Y == nullptr || Z == nullptr) {\n",
        " cerr << \"CUDA memory allocation failed\" << endl;\n",
        " return 1;\n",
        " }\n",
        " // Copy data from host to device\n",
        " cudaMemcpy(X, A, vectorBytes, cudaMemcpyHostToDevice);\n",
        " cudaMemcpy(Y, B, vectorBytes, cudaMemcpyHostToDevice);\n",
        " int threadsPerBlock = 256;\n",
        " int blocksPerGrid = (N + threadsPerBlock-1) / threadsPerBlock;\n",
        " // Launch kernel\n",
        " add<<<blocksPerGrid, threadsPerBlock>>>(X, Y, Z, N);\n",
        " // Check for kernel launch errors\n",
        " cudaError_t kernelLaunchError = cudaGetLastError();\n",
        " if (kernelLaunchError != cudaSuccess) {\n",
        " cerr << \"CUDA kernel launch failed: \" <<\n",
        " cudaGetErrorString(kernelLaunchError) << endl;\n",
        "return 1;\n",
        " }\n",
        " // Copy result from device to host\n",
        " cudaMemcpy(C, Z, vectorBytes, cudaMemcpyDeviceToHost);\n",
        " // Check for CUDA memcpy errors\n",
        " cudaError_t memcpyError = cudaGetLastError();\n",
        " if (memcpyError != cudaSuccess) {\n",
        " cerr << \"CUDA memcpy failed: \" << cudaGetErrorString(memcpyError) <<\n",
        " endl;\n",
        " return 1;\n",
        " }\n",
        " cout << \"Addition: \";\n",
        " print(C, N);\n",
        " // Free device memory\n",
        " cudaFree(X);\n",
        " cudaFree(Y);\n",
        " cudaFree(Z);\n",
        " // Free host memory\n",
        " delete[] A;\n",
        " delete[] B;\n",
        " delete[] C;\n",
        " return 0;\n",
        " }"
      ],
      "metadata": {
        "colab": {
          "base_uri": "https://localhost:8080/"
        },
        "id": "OZhe_6Y1-gyv",
        "outputId": "437c8b5d-d44a-4de9-b5fb-004fa6266881"
      },
      "execution_count": 43,
      "outputs": [
        {
          "output_type": "stream",
          "name": "stdout",
          "text": [
            "Writing add.cu\n"
          ]
        }
      ]
    },
    {
      "cell_type": "code",
      "source": [
        "!nvcc add.cu -o add"
      ],
      "metadata": {
        "id": "mU4Zr9Pm_F_7"
      },
      "execution_count": 44,
      "outputs": []
    },
    {
      "cell_type": "code",
      "source": [
        "!./add"
      ],
      "metadata": {
        "colab": {
          "base_uri": "https://localhost:8080/"
        },
        "id": "tmdLmM3q_hHd",
        "outputId": "552bc8c1-399f-47ec-a41c-bd818a8e73e4"
      },
      "execution_count": 45,
      "outputs": [
        {
          "output_type": "stream",
          "name": "stdout",
          "text": [
            "Enter the size of the vectors: 3\n",
            "Enter elements of vector A:\n",
            "1 2 3\n",
            "Enter elements of vector B:\n",
            "4 5 6\n",
            "Vector A: 1 2 3 \n",
            "Vector B: 4 5 6 \n",
            "Addition: 5 7 9 \n"
          ]
        }
      ]
    }
  ]
}